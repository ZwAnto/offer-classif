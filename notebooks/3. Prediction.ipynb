{
 "cells": [
  {
   "cell_type": "markdown",
   "id": "biblical-adolescent",
   "metadata": {},
   "source": [
    "# PREDICTION"
   ]
  },
  {
   "cell_type": "code",
   "execution_count": 82,
   "id": "derived-favorite",
   "metadata": {},
   "outputs": [],
   "source": [
    "import os\n",
    "from offerclassif.data import load_json, get_df\n",
    "from offerclassif.embedding import get_vectors\n",
    "from offerclassif.utils import plot_tsne, topNoob\n",
    "import numpy as np\n",
    "from sklearn.manifold import TSNE\n",
    "import pandas as pd\n",
    "from sklearn.ensemble import ExtraTreesClassifier\n",
    "import plotly.express as px"
   ]
  },
  {
   "cell_type": "markdown",
   "id": "spoken-deposit",
   "metadata": {},
   "source": [
    "# 💾 Chargement des données\n",
    "---"
   ]
  },
  {
   "cell_type": "code",
   "execution_count": 83,
   "id": "arbitrary-silence",
   "metadata": {},
   "outputs": [
    {
     "name": "stdout",
     "output_type": "stream",
     "text": [
      "20 loaded from ../data/external/job_thesaurus.json.\n",
      "84 loaded from ../data/external/offers_train.json.\n"
     ]
    }
   ],
   "source": [
    "thesaurus = load_json('../data/external/job_thesaurus.json')\n",
    "train = load_json('../data/external/offers_train.json')\n",
    "\n",
    "df = get_df(train, thesaurus)"
   ]
  },
  {
   "cell_type": "markdown",
   "id": "consolidated-shanghai",
   "metadata": {},
   "source": [
    "# ⚗️ Prédiction du libellé\n",
    "---"
   ]
  },
  {
   "cell_type": "code",
   "execution_count": 84,
   "id": "interracial-worship",
   "metadata": {},
   "outputs": [],
   "source": [
    "# Récupération de la représentation vectorielle\n",
    "X = get_vectors(df.title)"
   ]
  },
  {
   "cell_type": "code",
   "execution_count": 85,
   "id": "helpful-compact",
   "metadata": {},
   "outputs": [
    {
     "data": {
      "text/plain": [
       "ExtraTreesClassifier(bootstrap=True, n_estimators=1000, oob_score=True,\n",
       "                     random_state=1)"
      ]
     },
     "execution_count": 85,
     "metadata": {},
     "output_type": "execute_result"
    }
   ],
   "source": [
    "# Apprentissage du modèle\n",
    "et = ExtraTreesClassifier(oob_score=True, bootstrap=True, n_estimators=1000, random_state=1) \n",
    "et.fit(X, df.internal_label)\n"
   ]
  },
  {
   "cell_type": "code",
   "execution_count": 86,
   "id": "eleven-running",
   "metadata": {},
   "outputs": [
    {
     "name": "stdout",
     "output_type": "stream",
     "text": [
      "Accuracy: 75.0%\n",
      "Top 3 accuracy: 91.7%\n",
      "Top 2 accuracy: 84.5%\n"
     ]
    }
   ],
   "source": [
    "# Accuracy\n",
    "print(\"Accuracy: {:.1%}\".format(et.oob_score_))\n",
    "print(\"Top 3 accuracy: {:.1%}\".format(topNoob(et, df.internal_label, 3)))\n",
    "print(\"Top 2 accuracy: {:.1%}\".format(topNoob(et, df.internal_label, 2)))"
   ]
  },
  {
   "cell_type": "markdown",
   "id": "better-astronomy",
   "metadata": {},
   "source": [
    "Trois chances sur quatre d'avoir le bon libellé ... 🎉 et plus de 9 chances sur 10 d'avoir le bon libellé dans le top 3 des libellés prédits !"
   ]
  },
  {
   "cell_type": "code",
   "execution_count": 87,
   "id": "distant-calculator",
   "metadata": {},
   "outputs": [],
   "source": [
    "df['pred'] = et.oob_decision_function_.argmax(axis=1)\n",
    "df['pred'] = df.pred.apply(lambda x: et.classes_[x])"
   ]
  },
  {
   "cell_type": "markdown",
   "id": "failing-balance",
   "metadata": {},
   "source": [
    "## Matrice de confusion"
   ]
  },
  {
   "cell_type": "code",
   "execution_count": 131,
   "id": "civil-postcard",
   "metadata": {},
   "outputs": [
    {
     "name": "stdout",
     "output_type": "stream",
     "text": [
      "<real_label> (n=)\n",
      "   <predicted_label> (n=)\n",
      "\n",
      "Vendeur télephonie mobile (n=1)\n",
      "   Vendeur (n=1)\n",
      "\n",
      "Ingénieur de recherche (n=9)\n",
      "   Ingénieur de recherche (n=8)\n",
      "   Data Scientist (n=1)\n",
      "\n",
      "Data Scientist (n=11)\n",
      "   Data Scientist (n=8)\n",
      "   Ingénieur de recherche (n=2)\n",
      "   Vendeur (n=1)\n",
      "\n",
      "Ingénieur calcul mécanique (n=5)\n",
      "   Ingénieur calcul (n=2)\n",
      "   Ingénieur calcul mécanique (n=2)\n",
      "   Data Scientist (n=1)\n",
      "\n",
      "Vendeur (n=18)\n",
      "   Vendeur (n=18)\n",
      "\n",
      "Ingénieur calcul (n=4)\n",
      "   Ingénieur calcul mécanique (n=3)\n",
      "   Ingénieur calcul (n=1)\n",
      "\n",
      "Développeur Python (n=6)\n",
      "   Développeur C++ (n=4)\n",
      "   Développeur Python (n=2)\n",
      "\n",
      "Chargé de clientele (n=9)\n",
      "   Chargé de clientele (n=9)\n",
      "\n",
      "Développeur C++ (n=8)\n",
      "   Développeur C++ (n=6)\n",
      "   Développeur Python (n=2)\n",
      "\n",
      "Commercial (n=6)\n",
      "   Commercial (n=5)\n",
      "   Vendeur (n=1)\n",
      "\n",
      "Développeur Java (n=6)\n",
      "   Développeur Java (n=4)\n",
      "   Développeur C++ (n=2)\n",
      "\n",
      "Consultant Java (n=1)\n",
      "   Développeur Java (n=1)\n",
      "\n"
     ]
    }
   ],
   "source": [
    "print(\"<real_label> (n=)\")\n",
    "print(\"   <predicted_label> (n=)\")\n",
    "print(\"\")\n",
    "\n",
    "for label in df.internal_label.unique():\n",
    "    sub_df = df.query(f\"internal_label == '{label}'\")\n",
    "    print(f\"{label} (n={len(sub_df)})\")\n",
    "    counts = sub_df.pred.value_counts()\n",
    "    for i,j in counts.iteritems():\n",
    "        print(f\"   {i} (n={j})\")\n",
    "    print(\"\")"
   ]
  },
  {
   "cell_type": "markdown",
   "id": "blank-catalog",
   "metadata": {},
   "source": [
    "#  ⚗️ Prediction du secteur \n",
    "---"
   ]
  },
  {
   "cell_type": "code",
   "execution_count": 114,
   "id": "expanded-senior",
   "metadata": {},
   "outputs": [
    {
     "data": {
      "text/plain": [
       "ExtraTreesClassifier(bootstrap=True, n_estimators=1000, oob_score=True,\n",
       "                     random_state=1)"
      ]
     },
     "execution_count": 114,
     "metadata": {},
     "output_type": "execute_result"
    }
   ],
   "source": [
    "et_sect = ExtraTreesClassifier(oob_score=True, bootstrap=True, n_estimators=1000, random_state=1) \n",
    "et_sect.fit(X, df.sector_internal_label)"
   ]
  },
  {
   "cell_type": "code",
   "execution_count": 115,
   "id": "missing-jimmy",
   "metadata": {},
   "outputs": [
    {
     "name": "stdout",
     "output_type": "stream",
     "text": [
      "Accuracy: 96.4%\n"
     ]
    }
   ],
   "source": [
    "# Accuracy\n",
    "print(\"Accuracy: {:.1%}\".format(et_sect.oob_score_))"
   ]
  },
  {
   "cell_type": "markdown",
   "id": "junior-smell",
   "metadata": {},
   "source": [
    "96% de chance de prédire le bon secteur !"
   ]
  },
  {
   "cell_type": "markdown",
   "id": "fifty-spending",
   "metadata": {},
   "source": [
    "## Prevision du libellé en prenant en compte les résultats du modèle de secteur"
   ]
  },
  {
   "cell_type": "code",
   "execution_count": 123,
   "id": "vocal-offer",
   "metadata": {},
   "outputs": [],
   "source": [
    "new_X = np.hstack([X, et_sect.oob_decision_function_])"
   ]
  },
  {
   "cell_type": "code",
   "execution_count": 124,
   "id": "stainless-affiliate",
   "metadata": {
    "scrolled": true
   },
   "outputs": [
    {
     "data": {
      "text/plain": [
       "ExtraTreesClassifier(bootstrap=True, n_estimators=1000, oob_score=True,\n",
       "                     random_state=1)"
      ]
     },
     "execution_count": 124,
     "metadata": {},
     "output_type": "execute_result"
    }
   ],
   "source": [
    "et_lib = ExtraTreesClassifier(oob_score=True, bootstrap=True, n_estimators=1000, random_state=1) \n",
    "et_lib.fit(new_X, df.internal_label)"
   ]
  },
  {
   "cell_type": "code",
   "execution_count": 125,
   "id": "destroyed-appraisal",
   "metadata": {
    "scrolled": true
   },
   "outputs": [
    {
     "name": "stdout",
     "output_type": "stream",
     "text": [
      "Accuracy: 77.4%\n",
      "Top 3 accuracy: 91.7%\n",
      "Top 2 accuracy: 85.7%\n"
     ]
    }
   ],
   "source": [
    "# Accuracy\n",
    "print(\"Accuracy: {:.1%}\".format(et_lib.oob_score_))\n",
    "print(\"Top 3 accuracy: {:.1%}\".format(topNoob(et_lib, df.internal_label, 3)))\n",
    "print(\"Top 2 accuracy: {:.1%}\".format(topNoob(et_lib, df.internal_label, 2)))"
   ]
  },
  {
   "cell_type": "markdown",
   "id": "comparative-armstrong",
   "metadata": {},
   "source": [
    "Ajouter une information sur le secteur permet d'améliorer sensiblement la prédiction du libellé "
   ]
  },
  {
   "cell_type": "code",
   "execution_count": 126,
   "id": "banner-stephen",
   "metadata": {},
   "outputs": [],
   "source": [
    "df['pred_2'] = et_lib.oob_decision_function_.argmax(axis=1)\n",
    "df['pred_2'] = df.pred_2.apply(lambda x: et_lib.classes_[x])"
   ]
  },
  {
   "cell_type": "markdown",
   "id": "spatial-affect",
   "metadata": {},
   "source": [
    "## Matrice de confusion"
   ]
  },
  {
   "cell_type": "code",
   "execution_count": 130,
   "id": "exterior-albany",
   "metadata": {},
   "outputs": [
    {
     "name": "stdout",
     "output_type": "stream",
     "text": [
      "<real_label> (n=)\n",
      "   <predicted_label> (n=)\n",
      "\n",
      "Vendeur télephonie mobile (n=1)\n",
      "   Vendeur (n=1)\n",
      "\n",
      "Ingénieur de recherche (n=9)\n",
      "   Ingénieur de recherche (n=8)\n",
      "   Data Scientist (n=1)\n",
      "\n",
      "Data Scientist (n=11)\n",
      "   Data Scientist (n=8)\n",
      "   Ingénieur de recherche (n=2)\n",
      "   Vendeur (n=1)\n",
      "\n",
      "Ingénieur calcul mécanique (n=5)\n",
      "   Ingénieur calcul mécanique (n=3)\n",
      "   Ingénieur calcul (n=2)\n",
      "\n",
      "Vendeur (n=18)\n",
      "   Vendeur (n=18)\n",
      "\n",
      "Ingénieur calcul (n=4)\n",
      "   Ingénieur calcul mécanique (n=3)\n",
      "   Ingénieur calcul (n=1)\n",
      "\n",
      "Développeur Python (n=6)\n",
      "   Développeur C++ (n=3)\n",
      "   Développeur Python (n=2)\n",
      "   Ingénieur de recherche (n=1)\n",
      "\n",
      "Chargé de clientele (n=9)\n",
      "   Chargé de clientele (n=9)\n",
      "\n",
      "Développeur C++ (n=8)\n",
      "   Développeur C++ (n=6)\n",
      "   Développeur Python (n=2)\n",
      "\n",
      "Commercial (n=6)\n",
      "   Commercial (n=6)\n",
      "\n",
      "Développeur Java (n=6)\n",
      "   Développeur Java (n=4)\n",
      "   Développeur C++ (n=2)\n",
      "\n",
      "Consultant Java (n=1)\n",
      "   Développeur Java (n=1)\n",
      "\n"
     ]
    }
   ],
   "source": [
    "print(\"<real_label> (n=)\")\n",
    "print(\"   <predicted_label> (n=)\")\n",
    "print(\"\")\n",
    "\n",
    "for label in df.internal_label.unique():\n",
    "    sub_df = df.query(f\"internal_label == '{label}'\")\n",
    "    print(f\"{label} (n={len(sub_df)})\")\n",
    "    counts = sub_df.pred_2.value_counts()\n",
    "    for i,j in counts.iteritems():\n",
    "        print(f\"   {i} (n={j})\")\n",
    "    print(\"\")"
   ]
  }
 ],
 "metadata": {
  "kernelspec": {
   "display_name": "offer-classif",
   "language": "python",
   "name": "offer-classif"
  },
  "language_info": {
   "codemirror_mode": {
    "name": "ipython",
    "version": 3
   },
   "file_extension": ".py",
   "mimetype": "text/x-python",
   "name": "python",
   "nbconvert_exporter": "python",
   "pygments_lexer": "ipython3",
   "version": "3.8.0"
  }
 },
 "nbformat": 4,
 "nbformat_minor": 5
}
